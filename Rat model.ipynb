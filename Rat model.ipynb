{
 "cells": [
  {
   "cell_type": "code",
   "execution_count": 1,
   "id": "7b796d97",
   "metadata": {},
   "outputs": [],
   "source": [
    "import pandas as pd\n",
    "import numpy as np\n",
    "import matplotlib.pyplot as plt\n",
    "\n",
    "dataset = pd.read_csv(\"dataset rat full 9f.csv\")"
   ]
  },
  {
   "cell_type": "code",
   "execution_count": 2,
   "id": "40c105a7",
   "metadata": {},
   "outputs": [
    {
     "data": {
      "text/plain": [
       "(52842, 10)"
      ]
     },
     "execution_count": 2,
     "metadata": {},
     "output_type": "execute_result"
    }
   ],
   "source": [
    "dataset.shape"
   ]
  },
  {
   "cell_type": "markdown",
   "id": "58e67dd4",
   "metadata": {},
   "source": [
    "# Dataframe processed"
   ]
  },
  {
   "cell_type": "code",
   "execution_count": 3,
   "id": "e2d0721f",
   "metadata": {},
   "outputs": [],
   "source": [
    "# input\n",
    "x = dataset.iloc[:, [0,1,2,4,5,7,8]].values\n",
    "  \n",
    "# output\n",
    "y = dataset.iloc[:, -1].values\n"
   ]
  },
  {
   "cell_type": "code",
   "execution_count": 4,
   "id": "c23bbd48",
   "metadata": {},
   "outputs": [],
   "source": [
    "from sklearn.model_selection import train_test_split\n",
    "X_train, X_test, y_train, y_test = train_test_split(x, y, test_size = 0.25, random_state=0)"
   ]
  },
  {
   "cell_type": "code",
   "execution_count": 5,
   "id": "473d388d",
   "metadata": {},
   "outputs": [
    {
     "data": {
      "text/plain": [
       "array([[1.43113377e+00, 3.40000000e+01, 5.25760397e+01, ...,\n",
       "        1.61100000e+03, 1.37802607e-01, 4.59627329e-02],\n",
       "       [1.27364403e+00, 3.00000000e+00, 5.06896552e+01, ...,\n",
       "        2.90000000e+02, 2.17241379e-01, 5.53633218e-02],\n",
       "       [1.43397469e+00, 8.00000000e+00, 5.16049383e+01, ...,\n",
       "        8.10000000e+02, 2.70370370e-01, 4.69715698e-02],\n",
       "       ...,\n",
       "       [1.53631247e+00, 5.00000000e+00, 4.56989247e+01, ...,\n",
       "        7.44000000e+02, 3.79032258e-01, 6.32570659e-02],\n",
       "       [1.34843488e+00, 1.01000000e+02, 5.31195841e+01, ...,\n",
       "        3.46200000e+03, 6.23050260e-01, 4.39179428e-02],\n",
       "       [1.58073167e+00, 7.00000000e+00, 4.49218750e+01, ...,\n",
       "        5.12000000e+02, 1.17187500e-01, 7.63209393e-02]])"
      ]
     },
     "execution_count": 5,
     "metadata": {},
     "output_type": "execute_result"
    }
   ],
   "source": [
    "X_train\n",
    "# X_train.shape"
   ]
  },
  {
   "cell_type": "code",
   "execution_count": 6,
   "id": "657af187",
   "metadata": {},
   "outputs": [
    {
     "data": {
      "text/plain": [
       "array([[1.73449771e+00, 2.53000000e+02, 4.48994022e+01, ...,\n",
       "        1.55570000e+04, 1.13775149e-02, 6.27410645e-02],\n",
       "       [1.86068941e+00, 4.80000000e+01, 5.34082923e+01, ...,\n",
       "        1.42300000e+03, 0.00000000e+00, 3.44585091e-02],\n",
       "       [1.87239796e+00, 8.00000000e+00, 4.56790123e+01, ...,\n",
       "        3.24000000e+02, 1.48148148e-01, 8.04953560e-02],\n",
       "       ...,\n",
       "       [1.59275450e+00, 8.00000000e+00, 4.73502304e+01, ...,\n",
       "        8.68000000e+02, 4.76958525e-01, 6.11303345e-02],\n",
       "       [2.03661129e+00, 7.00000000e+00, 3.51827389e+01, ...,\n",
       "        2.27100000e+03, 3.83091149e-02, 1.07488987e-01],\n",
       "       [1.02727891e+00, 4.00000000e+01, 6.11973392e+01, ...,\n",
       "        9.02000000e+02, 1.99556541e-01, 2.77469478e-02]])"
      ]
     },
     "execution_count": 6,
     "metadata": {},
     "output_type": "execute_result"
    }
   ],
   "source": [
    "X_test\n",
    "# X_test.shape"
   ]
  },
  {
   "cell_type": "code",
   "execution_count": 7,
   "id": "1135fe7f",
   "metadata": {},
   "outputs": [],
   "source": [
    "# from sklearn.preprocessing import StandardScaler\n",
    "# sc_x = StandardScaler()\n",
    "# X_train = sc_x.fit_transform(X_train) \n",
    "# X_test = sc_x.transform(X_test)\n",
    "  \n",
    "# print (X_train[0:10, :])"
   ]
  },
  {
   "cell_type": "code",
   "execution_count": 8,
   "id": "a4d94dc9",
   "metadata": {},
   "outputs": [
    {
     "data": {
      "text/plain": [
       "(39631, 7)"
      ]
     },
     "execution_count": 8,
     "metadata": {},
     "output_type": "execute_result"
    }
   ],
   "source": [
    "X_train.shape"
   ]
  },
  {
   "cell_type": "markdown",
   "id": "5f7c61e9",
   "metadata": {},
   "source": [
    "# Logistic Regression model"
   ]
  },
  {
   "cell_type": "code",
   "execution_count": 9,
   "id": "af9a6d40",
   "metadata": {},
   "outputs": [],
   "source": [
    "from sklearn.linear_model import LogisticRegression\n",
    "\n",
    "classifier = LogisticRegression(random_state = 2)\n",
    "classifier.fit(X_train, y_train)\n",
    "\n",
    "y_pred = classifier.predict(X_test)"
   ]
  },
  {
   "cell_type": "code",
   "execution_count": 10,
   "id": "f1878495",
   "metadata": {},
   "outputs": [],
   "source": [
    "# from sklearn.model_selection import cross_val_score\n",
    "\n",
    "# scores = cross_val_score(classifier, x, y, cv=5)\n",
    "# print(\"Logistic Regression Accuracy: %0.2f (+/- %0.2f)\" % (scores.mean(), scores.std() * 2))"
   ]
  },
  {
   "cell_type": "code",
   "execution_count": 11,
   "id": "159232ef",
   "metadata": {},
   "outputs": [
    {
     "name": "stdout",
     "output_type": "stream",
     "text": [
      "Confusion Matrix : \n",
      " [[6162  470]\n",
      " [1191 5388]]\n"
     ]
    }
   ],
   "source": [
    "from sklearn.metrics import confusion_matrix\n",
    "cm = confusion_matrix(y_test, y_pred)\n",
    "  \n",
    "print (\"Confusion Matrix : \\n\", cm)"
   ]
  },
  {
   "cell_type": "code",
   "execution_count": 12,
   "id": "55090251",
   "metadata": {},
   "outputs": [
    {
     "name": "stdout",
     "output_type": "stream",
     "text": [
      "Accuracy :  0.8742714404662781\n"
     ]
    }
   ],
   "source": [
    "\n",
    "from sklearn.metrics import accuracy_score\n",
    "print (\"Accuracy : \", accuracy_score(y_test, y_pred))"
   ]
  },
  {
   "cell_type": "code",
   "execution_count": 13,
   "id": "0f15343f",
   "metadata": {},
   "outputs": [
    {
     "name": "stdout",
     "output_type": "stream",
     "text": [
      "Test set RMSE: 0.3545822323999355\n"
     ]
    }
   ],
   "source": [
    "from sklearn.metrics import mean_squared_error\n",
    "\n",
    "rmse = mean_squared_error(y_test, y_pred, squared=False)\n",
    "print('Test set RMSE:', rmse)\n"
   ]
  },
  {
   "cell_type": "markdown",
   "id": "cca90c86",
   "metadata": {},
   "source": [
    "# Random Forest"
   ]
  },
  {
   "cell_type": "code",
   "execution_count": 14,
   "id": "2a4b85bf",
   "metadata": {},
   "outputs": [],
   "source": [
    "from sklearn.ensemble import RandomForestClassifier\n",
    "\n",
    "random_classifier = RandomForestClassifier(n_estimators=50, random_state=0)\n",
    "random_classifier.fit(X_train, y_train)\n",
    "\n",
    "y_pred = random_classifier.predict(X_test)"
   ]
  },
  {
   "cell_type": "code",
   "execution_count": 15,
   "id": "f77a30d8",
   "metadata": {},
   "outputs": [],
   "source": [
    "# from sklearn.model_selection import cross_val_score\n",
    "\n",
    "# scores = cross_val_score(random_classifier, x, y, cv=5)\n",
    "# print(\"Logistic Regression Accuracy: %0.2f (+/- %0.2f)\" % (scores.mean(), scores.std() * 2))"
   ]
  },
  {
   "cell_type": "code",
   "execution_count": 16,
   "id": "6c98a92d",
   "metadata": {},
   "outputs": [
    {
     "name": "stdout",
     "output_type": "stream",
     "text": [
      "Confusion Matrix : \n",
      " [[6075  557]\n",
      " [ 809 5770]]\n"
     ]
    }
   ],
   "source": [
    "from sklearn.metrics import confusion_matrix\n",
    "cm = confusion_matrix(y_test, y_pred)\n",
    "  \n",
    "print (\"Confusion Matrix : \\n\", cm)"
   ]
  },
  {
   "cell_type": "code",
   "execution_count": 17,
   "id": "db7a1aed",
   "metadata": {},
   "outputs": [
    {
     "name": "stdout",
     "output_type": "stream",
     "text": [
      "Accuracy :  0.896601317084248\n"
     ]
    }
   ],
   "source": [
    "from sklearn.metrics import accuracy_score\n",
    "print (\"Accuracy : \", accuracy_score(y_test, y_pred))"
   ]
  },
  {
   "cell_type": "code",
   "execution_count": 18,
   "id": "03bc6b6e",
   "metadata": {},
   "outputs": [
    {
     "name": "stdout",
     "output_type": "stream",
     "text": [
      "Test set RMSE: 0.32155665584116283\n"
     ]
    }
   ],
   "source": [
    "from sklearn.metrics import mean_squared_error\n",
    "\n",
    "rmse = mean_squared_error(y_test, y_pred, squared=False)\n",
    "print('Test set RMSE:', rmse)\n"
   ]
  },
  {
   "cell_type": "markdown",
   "id": "65b7aaf9",
   "metadata": {},
   "source": [
    "# Support Vector Machine"
   ]
  },
  {
   "cell_type": "code",
   "execution_count": null,
   "id": "bc463515",
   "metadata": {},
   "outputs": [],
   "source": [
    "from sklearn.svm import SVC\n",
    "\n",
    "svm_classifier = SVC(kernel='linear', random_state=0)\n",
    "svm_classifier.fit(X_train, y_train)\n",
    "\n",
    "y_pred = svm_classifier.predict(X_test)"
   ]
  },
  {
   "cell_type": "code",
   "execution_count": null,
   "id": "526b03a5",
   "metadata": {},
   "outputs": [],
   "source": [
    "# from sklearn.model_selection import cross_val_score\n",
    "\n",
    "# scores = cross_val_score(svm_classifier, x, y, cv=5)\n",
    "# print(\"Logistic Regression Accuracy: %0.2f (+/- %0.2f)\" % (scores.mean(), scores.std() * 2))"
   ]
  },
  {
   "cell_type": "code",
   "execution_count": null,
   "id": "f44fd464",
   "metadata": {},
   "outputs": [],
   "source": [
    "from sklearn.metrics import confusion_matrix\n",
    "cm = confusion_matrix(y_test, y_pred)\n",
    "  \n",
    "print (\"Confusion Matrix : \\n\", cm)"
   ]
  },
  {
   "cell_type": "code",
   "execution_count": null,
   "id": "70e4809f",
   "metadata": {},
   "outputs": [],
   "source": [
    "from sklearn.metrics import accuracy_score\n",
    "print (\"Accuracy : \", accuracy_score(y_test, y_pred))"
   ]
  },
  {
   "cell_type": "code",
   "execution_count": null,
   "id": "6dbaa593",
   "metadata": {},
   "outputs": [],
   "source": [
    "from sklearn.metrics import mean_squared_error\n",
    "\n",
    "rmse = mean_squared_error(y_test, y_pred, squared=False)\n",
    "print('Test set RMSE:', rmse)"
   ]
  },
  {
   "cell_type": "markdown",
   "id": "817d18f1",
   "metadata": {},
   "source": [
    "# Naive Bayes"
   ]
  },
  {
   "cell_type": "code",
   "execution_count": 19,
   "id": "c7e7ae61",
   "metadata": {},
   "outputs": [],
   "source": [
    "from sklearn.naive_bayes import GaussianNB\n",
    "\n",
    "nb_classifier = GaussianNB()\n",
    "nb_classifier.fit(X_train, y_train)\n",
    "\n",
    "y_pred = nb_classifier.predict(X_test)"
   ]
  },
  {
   "cell_type": "code",
   "execution_count": 20,
   "id": "1047f790",
   "metadata": {},
   "outputs": [],
   "source": [
    "# from sklearn.model_selection import cross_val_score\n",
    "\n",
    "# scores = cross_val_score(nb_classifier, x, y, cv=5)\n",
    "# print(\"Logistic Regression Accuracy: %0.2f (+/- %0.2f)\" % (scores.mean(), scores.std() * 2))"
   ]
  },
  {
   "cell_type": "code",
   "execution_count": 21,
   "id": "7474da9e",
   "metadata": {},
   "outputs": [
    {
     "name": "stdout",
     "output_type": "stream",
     "text": [
      "Confusion Matrix : \n",
      " [[6259  373]\n",
      " [2352 4227]]\n"
     ]
    }
   ],
   "source": [
    "from sklearn.metrics import confusion_matrix\n",
    "cm = confusion_matrix(y_test, y_pred)\n",
    "  \n",
    "print (\"Confusion Matrix : \\n\", cm)"
   ]
  },
  {
   "cell_type": "code",
   "execution_count": 22,
   "id": "592e5a24",
   "metadata": {},
   "outputs": [
    {
     "name": "stdout",
     "output_type": "stream",
     "text": [
      "Accuracy :  0.7937324956475664\n"
     ]
    }
   ],
   "source": [
    "from sklearn.metrics import accuracy_score\n",
    "print (\"Accuracy : \", accuracy_score(y_test, y_pred))"
   ]
  },
  {
   "cell_type": "code",
   "execution_count": 23,
   "id": "ebde57ab",
   "metadata": {},
   "outputs": [
    {
     "name": "stdout",
     "output_type": "stream",
     "text": [
      "Test set RMSE: 0.4541668243635081\n"
     ]
    }
   ],
   "source": [
    "from sklearn.metrics import mean_squared_error\n",
    "\n",
    "rmse = mean_squared_error(y_test, y_pred, squared=False)\n",
    "print('Test set RMSE:', rmse)"
   ]
  },
  {
   "cell_type": "markdown",
   "id": "fd744d68",
   "metadata": {},
   "source": [
    "# Pickle formation"
   ]
  },
  {
   "cell_type": "code",
   "execution_count": 25,
   "id": "53c25db2",
   "metadata": {},
   "outputs": [],
   "source": [
    "import pickle\n"
   ]
  },
  {
   "cell_type": "code",
   "execution_count": 26,
   "id": "7110eece",
   "metadata": {},
   "outputs": [],
   "source": [
    "\n",
    "with open('lr_model rat 7f new.pkl','wb') as files:\n",
    "    pickle.dump(classifier,files)"
   ]
  },
  {
   "cell_type": "code",
   "execution_count": 27,
   "id": "ccfa8c57",
   "metadata": {},
   "outputs": [],
   "source": [
    "\n",
    "with open('random_model rat 7f new.pkl','wb') as files:\n",
    "    pickle.dump(random_classifier,files)"
   ]
  },
  {
   "cell_type": "code",
   "execution_count": 28,
   "id": "8b12cd35",
   "metadata": {},
   "outputs": [],
   "source": [
    "\n",
    "with open('nb_model rat 7f new.pkl','wb') as files:\n",
    "    pickle.dump(nb_classifier,files)"
   ]
  },
  {
   "cell_type": "code",
   "execution_count": null,
   "id": "ad780a73",
   "metadata": {},
   "outputs": [],
   "source": [
    "\n",
    "with open('svm_model rat 7f new.pkl','wb') as files:\n",
    "    pickle.dump(svm_classifier,files)"
   ]
  },
  {
   "cell_type": "code",
   "execution_count": null,
   "id": "41b0faf8",
   "metadata": {},
   "outputs": [],
   "source": []
  }
 ],
 "metadata": {
  "kernelspec": {
   "display_name": "Python 3 (ipykernel)",
   "language": "python",
   "name": "python3"
  },
  "language_info": {
   "codemirror_mode": {
    "name": "ipython",
    "version": 3
   },
   "file_extension": ".py",
   "mimetype": "text/x-python",
   "name": "python",
   "nbconvert_exporter": "python",
   "pygments_lexer": "ipython3",
   "version": "3.9.13"
  }
 },
 "nbformat": 4,
 "nbformat_minor": 5
}
