{
 "cells": [
  {
   "cell_type": "code",
   "execution_count": 1,
   "id": "7b796d97",
   "metadata": {},
   "outputs": [],
   "source": [
    "import pandas as pd\n",
    "import numpy as np\n",
    "import matplotlib.pyplot as plt\n",
    "\n",
    "dataset = pd.read_csv(\"datasheet_ver2.csv\")"
   ]
  },
  {
   "cell_type": "code",
   "execution_count": 2,
   "id": "40c105a7",
   "metadata": {},
   "outputs": [
    {
     "data": {
      "text/html": [
       "<div>\n",
       "<style scoped>\n",
       "    .dataframe tbody tr th:only-of-type {\n",
       "        vertical-align: middle;\n",
       "    }\n",
       "\n",
       "    .dataframe tbody tr th {\n",
       "        vertical-align: top;\n",
       "    }\n",
       "\n",
       "    .dataframe thead th {\n",
       "        text-align: right;\n",
       "    }\n",
       "</style>\n",
       "<table border=\"1\" class=\"dataframe\">\n",
       "  <thead>\n",
       "    <tr style=\"text-align: right;\">\n",
       "      <th></th>\n",
       "      <th>ORF Length</th>\n",
       "      <th>GC Content</th>\n",
       "      <th>Transcript Length</th>\n",
       "      <th>CpG Island</th>\n",
       "      <th>Ficket score</th>\n",
       "      <th>Coding Potential</th>\n",
       "    </tr>\n",
       "  </thead>\n",
       "  <tbody>\n",
       "    <tr>\n",
       "      <th>0</th>\n",
       "      <td>138.0</td>\n",
       "      <td>38.569425</td>\n",
       "      <td>713.0</td>\n",
       "      <td>5.0</td>\n",
       "      <td>1.172722</td>\n",
       "      <td>0.0</td>\n",
       "    </tr>\n",
       "    <tr>\n",
       "      <th>1</th>\n",
       "      <td>189.0</td>\n",
       "      <td>48.032787</td>\n",
       "      <td>1220.0</td>\n",
       "      <td>41.0</td>\n",
       "      <td>1.168862</td>\n",
       "      <td>0.0</td>\n",
       "    </tr>\n",
       "    <tr>\n",
       "      <th>2</th>\n",
       "      <td>171.0</td>\n",
       "      <td>53.114754</td>\n",
       "      <td>610.0</td>\n",
       "      <td>23.0</td>\n",
       "      <td>0.949387</td>\n",
       "      <td>0.0</td>\n",
       "    </tr>\n",
       "    <tr>\n",
       "      <th>3</th>\n",
       "      <td>537.0</td>\n",
       "      <td>41.805556</td>\n",
       "      <td>720.0</td>\n",
       "      <td>10.0</td>\n",
       "      <td>1.154088</td>\n",
       "      <td>1.0</td>\n",
       "    </tr>\n",
       "    <tr>\n",
       "      <th>4</th>\n",
       "      <td>1218.0</td>\n",
       "      <td>47.773502</td>\n",
       "      <td>1819.0</td>\n",
       "      <td>33.0</td>\n",
       "      <td>0.880220</td>\n",
       "      <td>1.0</td>\n",
       "    </tr>\n",
       "    <tr>\n",
       "      <th>...</th>\n",
       "      <td>...</td>\n",
       "      <td>...</td>\n",
       "      <td>...</td>\n",
       "      <td>...</td>\n",
       "      <td>...</td>\n",
       "      <td>...</td>\n",
       "    </tr>\n",
       "    <tr>\n",
       "      <th>116041</th>\n",
       "      <td>141.0</td>\n",
       "      <td>51.027811</td>\n",
       "      <td>827.0</td>\n",
       "      <td>33.0</td>\n",
       "      <td>1.316544</td>\n",
       "      <td>0.0</td>\n",
       "    </tr>\n",
       "    <tr>\n",
       "      <th>116042</th>\n",
       "      <td>333.0</td>\n",
       "      <td>36.901654</td>\n",
       "      <td>1149.0</td>\n",
       "      <td>11.0</td>\n",
       "      <td>0.853603</td>\n",
       "      <td>1.0</td>\n",
       "    </tr>\n",
       "    <tr>\n",
       "      <th>116043</th>\n",
       "      <td>225.0</td>\n",
       "      <td>51.943463</td>\n",
       "      <td>1415.0</td>\n",
       "      <td>28.0</td>\n",
       "      <td>1.095665</td>\n",
       "      <td>0.0</td>\n",
       "    </tr>\n",
       "    <tr>\n",
       "      <th>116044</th>\n",
       "      <td>276.0</td>\n",
       "      <td>48.976608</td>\n",
       "      <td>684.0</td>\n",
       "      <td>19.0</td>\n",
       "      <td>1.473068</td>\n",
       "      <td>1.0</td>\n",
       "    </tr>\n",
       "    <tr>\n",
       "      <th>116045</th>\n",
       "      <td>315.0</td>\n",
       "      <td>42.086753</td>\n",
       "      <td>853.0</td>\n",
       "      <td>14.0</td>\n",
       "      <td>0.983502</td>\n",
       "      <td>1.0</td>\n",
       "    </tr>\n",
       "  </tbody>\n",
       "</table>\n",
       "<p>116046 rows × 6 columns</p>\n",
       "</div>"
      ],
      "text/plain": [
       "        ORF Length  GC Content  Transcript Length  CpG Island  Ficket score  \\\n",
       "0            138.0   38.569425              713.0         5.0      1.172722   \n",
       "1            189.0   48.032787             1220.0        41.0      1.168862   \n",
       "2            171.0   53.114754              610.0        23.0      0.949387   \n",
       "3            537.0   41.805556              720.0        10.0      1.154088   \n",
       "4           1218.0   47.773502             1819.0        33.0      0.880220   \n",
       "...            ...         ...                ...         ...           ...   \n",
       "116041       141.0   51.027811              827.0        33.0      1.316544   \n",
       "116042       333.0   36.901654             1149.0        11.0      0.853603   \n",
       "116043       225.0   51.943463             1415.0        28.0      1.095665   \n",
       "116044       276.0   48.976608              684.0        19.0      1.473068   \n",
       "116045       315.0   42.086753              853.0        14.0      0.983502   \n",
       "\n",
       "         Coding Potential  \n",
       "0                     0.0  \n",
       "1                     0.0  \n",
       "2                     0.0  \n",
       "3                     1.0  \n",
       "4                     1.0  \n",
       "...                   ...  \n",
       "116041                0.0  \n",
       "116042                1.0  \n",
       "116043                0.0  \n",
       "116044                1.0  \n",
       "116045                1.0  \n",
       "\n",
       "[116046 rows x 6 columns]"
      ]
     },
     "execution_count": 2,
     "metadata": {},
     "output_type": "execute_result"
    }
   ],
   "source": [
    "dataset"
   ]
  },
  {
   "cell_type": "markdown",
   "id": "58e67dd4",
   "metadata": {},
   "source": [
    "# Dataframe processed"
   ]
  },
  {
   "cell_type": "code",
   "execution_count": 3,
   "id": "e2d0721f",
   "metadata": {},
   "outputs": [],
   "source": [
    "# input\n",
    "x = dataset.iloc[:, :-1].values\n",
    "  \n",
    "# output\n",
    "y = dataset.iloc[:, -1].values\n"
   ]
  },
  {
   "cell_type": "code",
   "execution_count": 4,
   "id": "c23bbd48",
   "metadata": {},
   "outputs": [],
   "source": [
    "from sklearn.model_selection import train_test_split\n",
    "X_train, X_test, y_train, y_test = train_test_split(x, y, test_size = 0.25, random_state=0)"
   ]
  },
  {
   "cell_type": "code",
   "execution_count": 5,
   "id": "473d388d",
   "metadata": {},
   "outputs": [
    {
     "data": {
      "text/plain": [
       "array([[1.3800000e+02, 4.0196078e+01, 9.1800000e+02, 1.3000000e+01,\n",
       "        6.9923000e-01],\n",
       "       [2.1600000e+02, 5.3023599e+01, 1.3560000e+03, 2.0000000e+01,\n",
       "        1.4717300e+00],\n",
       "       [3.3900000e+02, 4.9384886e+01, 5.6900000e+02, 2.0000000e+01,\n",
       "        1.4926240e+00],\n",
       "       ...,\n",
       "       [4.3800000e+02, 5.6365884e+01, 8.0900000e+02, 1.5000000e+01,\n",
       "        9.4130200e-01],\n",
       "       [3.3900000e+02, 4.3225806e+01, 1.5500000e+03, 1.3000000e+01,\n",
       "        1.2447110e+00],\n",
       "       [2.3700000e+02, 4.2393509e+01, 1.4790000e+03, 3.0000000e+01,\n",
       "        1.2684710e+00]])"
      ]
     },
     "execution_count": 5,
     "metadata": {},
     "output_type": "execute_result"
    }
   ],
   "source": [
    "X_train\n",
    "# X_train.shape"
   ]
  },
  {
   "cell_type": "code",
   "execution_count": 6,
   "id": "657af187",
   "metadata": {},
   "outputs": [
    {
     "data": {
      "text/plain": [
       "array([[1.5900000e+03, 4.6102450e+01, 1.7960000e+03, 4.1000000e+01,\n",
       "        1.4963480e+00],\n",
       "       [3.5400000e+02, 4.6153846e+01, 8.3200000e+02, 5.0000000e+00,\n",
       "        1.0151300e+00],\n",
       "       [9.5100000e+02, 3.7495623e+01, 1.9989000e+04, 1.7500000e+02,\n",
       "        8.3003000e-01],\n",
       "       ...,\n",
       "       [2.4600000e+02, 5.8788774e+01, 6.7700000e+02, 2.6000000e+01,\n",
       "        7.2770100e-01],\n",
       "       [3.0600000e+02, 5.5965293e+01, 4.6100000e+02, 2.2000000e+01,\n",
       "        2.0905180e+00],\n",
       "       [4.2900000e+02, 4.8682448e+01, 2.2390000e+03, 3.1000000e+01,\n",
       "        1.1812980e+00]])"
      ]
     },
     "execution_count": 6,
     "metadata": {},
     "output_type": "execute_result"
    }
   ],
   "source": [
    "X_test\n",
    "# X_test.shape"
   ]
  },
  {
   "cell_type": "code",
   "execution_count": 7,
   "id": "1135fe7f",
   "metadata": {},
   "outputs": [
    {
     "name": "stdout",
     "output_type": "stream",
     "text": [
      "[[-0.46033852 -0.9892416  -0.42553402 -0.5403317  -1.12030976]\n",
      " [-0.40447066  0.69855764 -0.24466744 -0.40697133  0.71337109]\n",
      " [-0.31637135  0.21978883 -0.56964917 -0.40697133  0.76296711]\n",
      " [ 0.28958006  2.38392194  0.15257833  1.26955903  0.01367883]\n",
      " [ 0.31751399 -0.42820634 -0.21576182 -0.12119911  1.83582113]\n",
      " [-0.35934662 -0.28079115 -0.41686233 -0.57843466 -0.13124486]\n",
      " [-0.47323111  0.21453788 -0.71004788 -0.71179503  0.10160768]\n",
      " [ 0.20577827 -0.80806667 -0.10633341 -0.29266244 -0.15482279]\n",
      " [-0.40017314  0.6038571  -0.47302182 -0.59748614 -0.42677012]\n",
      " [-0.34430528  0.47506747 -0.04108931 -0.29266244 -0.59485872]]\n"
     ]
    }
   ],
   "source": [
    "from sklearn.preprocessing import StandardScaler\n",
    "sc_x = StandardScaler()\n",
    "X_train = sc_x.fit_transform(X_train) \n",
    "X_test = sc_x.transform(X_test)\n",
    "  \n",
    "print (X_train[0:10, :])"
   ]
  },
  {
   "cell_type": "code",
   "execution_count": 8,
   "id": "a4d94dc9",
   "metadata": {},
   "outputs": [
    {
     "data": {
      "text/plain": [
       "(87034, 5)"
      ]
     },
     "execution_count": 8,
     "metadata": {},
     "output_type": "execute_result"
    }
   ],
   "source": [
    "X_train.shape"
   ]
  },
  {
   "cell_type": "markdown",
   "id": "5f7c61e9",
   "metadata": {},
   "source": [
    "# Logistic Regression model"
   ]
  },
  {
   "cell_type": "code",
   "execution_count": 13,
   "id": "af9a6d40",
   "metadata": {},
   "outputs": [],
   "source": [
    "from sklearn.linear_model import LogisticRegression\n",
    "\n",
    "classifier = LogisticRegression(random_state = 2)\n",
    "classifier.fit(X_train, y_train)\n",
    "\n",
    "y_pred = classifier.predict(X_test)"
   ]
  },
  {
   "cell_type": "code",
   "execution_count": 14,
   "id": "f1878495",
   "metadata": {},
   "outputs": [
    {
     "name": "stdout",
     "output_type": "stream",
     "text": [
      "Logistic Regression Accuracy: 0.86 (+/- 0.00)\n"
     ]
    }
   ],
   "source": [
    "from sklearn.model_selection import cross_val_score\n",
    "\n",
    "scores = cross_val_score(classifier, x, y, cv=5)\n",
    "print(\"Logistic Regression Accuracy: %0.2f (+/- %0.2f)\" % (scores.mean(), scores.std() * 2))"
   ]
  },
  {
   "cell_type": "code",
   "execution_count": 15,
   "id": "159232ef",
   "metadata": {},
   "outputs": [
    {
     "name": "stdout",
     "output_type": "stream",
     "text": [
      "Confusion Matrix : \n",
      " [[13482  1017]\n",
      " [ 3032 11481]]\n"
     ]
    }
   ],
   "source": [
    "from sklearn.metrics import confusion_matrix\n",
    "cm = confusion_matrix(y_test, y_pred)\n",
    "  \n",
    "print (\"Confusion Matrix : \\n\", cm)"
   ]
  },
  {
   "cell_type": "code",
   "execution_count": 16,
   "id": "55090251",
   "metadata": {},
   "outputs": [
    {
     "name": "stdout",
     "output_type": "stream",
     "text": [
      "Accuracy :  0.8604370605266786\n"
     ]
    }
   ],
   "source": [
    "\n",
    "from sklearn.metrics import accuracy_score\n",
    "print (\"Accuracy : \", accuracy_score(y_test, y_pred))"
   ]
  },
  {
   "cell_type": "code",
   "execution_count": 17,
   "id": "0f15343f",
   "metadata": {},
   "outputs": [
    {
     "name": "stdout",
     "output_type": "stream",
     "text": [
      "Test set RMSE: 0.3735812354405951\n"
     ]
    }
   ],
   "source": [
    "from sklearn.metrics import mean_squared_error\n",
    "\n",
    "rmse = mean_squared_error(y_test, y_pred, squared=False)\n",
    "print('Test set RMSE:', rmse)\n"
   ]
  },
  {
   "cell_type": "markdown",
   "id": "cca90c86",
   "metadata": {},
   "source": [
    "# Random Forest"
   ]
  },
  {
   "cell_type": "code",
   "execution_count": 18,
   "id": "2a4b85bf",
   "metadata": {},
   "outputs": [],
   "source": [
    "from sklearn.ensemble import RandomForestClassifier\n",
    "\n",
    "random_classifier = RandomForestClassifier(n_estimators=50, random_state=0)\n",
    "random_classifier.fit(X_train, y_train)\n",
    "\n",
    "y_pred = random_classifier.predict(X_test)"
   ]
  },
  {
   "cell_type": "code",
   "execution_count": 19,
   "id": "f77a30d8",
   "metadata": {},
   "outputs": [
    {
     "name": "stdout",
     "output_type": "stream",
     "text": [
      "Logistic Regression Accuracy: 0.89 (+/- 0.00)\n"
     ]
    }
   ],
   "source": [
    "from sklearn.model_selection import cross_val_score\n",
    "\n",
    "scores = cross_val_score(random_classifier, x, y, cv=5)\n",
    "print(\"Logistic Regression Accuracy: %0.2f (+/- %0.2f)\" % (scores.mean(), scores.std() * 2))"
   ]
  },
  {
   "cell_type": "code",
   "execution_count": 20,
   "id": "6c98a92d",
   "metadata": {},
   "outputs": [
    {
     "name": "stdout",
     "output_type": "stream",
     "text": [
      "Confusion Matrix : \n",
      " [[13301  1198]\n",
      " [ 2012 12501]]\n"
     ]
    }
   ],
   "source": [
    "from sklearn.metrics import confusion_matrix\n",
    "cm = confusion_matrix(y_test, y_pred)\n",
    "  \n",
    "print (\"Confusion Matrix : \\n\", cm)"
   ]
  },
  {
   "cell_type": "code",
   "execution_count": 21,
   "id": "db7a1aed",
   "metadata": {},
   "outputs": [
    {
     "name": "stdout",
     "output_type": "stream",
     "text": [
      "Accuracy :  0.8893561284985523\n"
     ]
    }
   ],
   "source": [
    "from sklearn.metrics import accuracy_score\n",
    "print (\"Accuracy : \", accuracy_score(y_test, y_pred))"
   ]
  },
  {
   "cell_type": "code",
   "execution_count": 22,
   "id": "03bc6b6e",
   "metadata": {},
   "outputs": [
    {
     "name": "stdout",
     "output_type": "stream",
     "text": [
      "Test set RMSE: 0.3326317355596842\n"
     ]
    }
   ],
   "source": [
    "from sklearn.metrics import mean_squared_error\n",
    "\n",
    "rmse = mean_squared_error(y_test, y_pred, squared=False)\n",
    "print('Test set RMSE:', rmse)\n"
   ]
  },
  {
   "cell_type": "markdown",
   "id": "65b7aaf9",
   "metadata": {},
   "source": [
    "# Support Vector Machine"
   ]
  },
  {
   "cell_type": "code",
   "execution_count": 23,
   "id": "bc463515",
   "metadata": {},
   "outputs": [],
   "source": [
    "from sklearn.svm import SVC\n",
    "\n",
    "svm_classifier = SVC(kernel='linear', random_state=0)\n",
    "svm_classifier.fit(X_train, y_train)\n",
    "\n",
    "y_pred = svm_classifier.predict(X_test)"
   ]
  },
  {
   "cell_type": "code",
   "execution_count": 24,
   "id": "526b03a5",
   "metadata": {},
   "outputs": [],
   "source": [
    "# from sklearn.model_selection import cross_val_score\n",
    "\n",
    "# scores = cross_val_score(svm_classifier, x, y, cv=5)\n",
    "# print(\"Logistic Regression Accuracy: %0.2f (+/- %0.2f)\" % (scores.mean(), scores.std() * 2))"
   ]
  },
  {
   "cell_type": "code",
   "execution_count": 25,
   "id": "f44fd464",
   "metadata": {},
   "outputs": [
    {
     "name": "stdout",
     "output_type": "stream",
     "text": [
      "Confusion Matrix : \n",
      " [[13493  1006]\n",
      " [ 3012 11501]]\n"
     ]
    }
   ],
   "source": [
    "from sklearn.metrics import confusion_matrix\n",
    "cm = confusion_matrix(y_test, y_pred)\n",
    "  \n",
    "print (\"Confusion Matrix : \\n\", cm)"
   ]
  },
  {
   "cell_type": "code",
   "execution_count": 26,
   "id": "70e4809f",
   "metadata": {},
   "outputs": [
    {
     "name": "stdout",
     "output_type": "stream",
     "text": [
      "Accuracy :  0.8615055838963188\n"
     ]
    }
   ],
   "source": [
    "from sklearn.metrics import accuracy_score\n",
    "print (\"Accuracy : \", accuracy_score(y_test, y_pred))"
   ]
  },
  {
   "cell_type": "code",
   "execution_count": 27,
   "id": "6dbaa593",
   "metadata": {},
   "outputs": [
    {
     "name": "stdout",
     "output_type": "stream",
     "text": [
      "Test set RMSE: 0.37214837914960913\n"
     ]
    }
   ],
   "source": [
    "from sklearn.metrics import mean_squared_error\n",
    "\n",
    "rmse = mean_squared_error(y_test, y_pred, squared=False)\n",
    "print('Test set RMSE:', rmse)"
   ]
  },
  {
   "cell_type": "markdown",
   "id": "817d18f1",
   "metadata": {},
   "source": [
    "# Naive Bayes"
   ]
  },
  {
   "cell_type": "code",
   "execution_count": 28,
   "id": "c7e7ae61",
   "metadata": {},
   "outputs": [],
   "source": [
    "from sklearn.naive_bayes import GaussianNB\n",
    "\n",
    "nb_classifier = GaussianNB()\n",
    "nb_classifier.fit(X_train, y_train)\n",
    "\n",
    "y_pred = nb_classifier.predict(X_test)"
   ]
  },
  {
   "cell_type": "code",
   "execution_count": 29,
   "id": "1047f790",
   "metadata": {},
   "outputs": [],
   "source": [
    "# from sklearn.model_selection import cross_val_score\n",
    "\n",
    "# scores = cross_val_score(nb_classifier, x, y, cv=5)\n",
    "# print(\"Logistic Regression Accuracy: %0.2f (+/- %0.2f)\" % (scores.mean(), scores.std() * 2))"
   ]
  },
  {
   "cell_type": "code",
   "execution_count": 30,
   "id": "7474da9e",
   "metadata": {},
   "outputs": [
    {
     "name": "stdout",
     "output_type": "stream",
     "text": [
      "Confusion Matrix : \n",
      " [[13882   617]\n",
      " [ 5315  9198]]\n"
     ]
    }
   ],
   "source": [
    "from sklearn.metrics import confusion_matrix\n",
    "cm = confusion_matrix(y_test, y_pred)\n",
    "  \n",
    "print (\"Confusion Matrix : \\n\", cm)"
   ]
  },
  {
   "cell_type": "code",
   "execution_count": 31,
   "id": "592e5a24",
   "metadata": {},
   "outputs": [
    {
     "name": "stdout",
     "output_type": "stream",
     "text": [
      "Accuracy :  0.7955328829449883\n"
     ]
    }
   ],
   "source": [
    "from sklearn.metrics import accuracy_score\n",
    "print (\"Accuracy : \", accuracy_score(y_test, y_pred))"
   ]
  },
  {
   "cell_type": "code",
   "execution_count": 32,
   "id": "ebde57ab",
   "metadata": {},
   "outputs": [
    {
     "name": "stdout",
     "output_type": "stream",
     "text": [
      "Test set RMSE: 0.4521804032186841\n"
     ]
    }
   ],
   "source": [
    "from sklearn.metrics import mean_squared_error\n",
    "\n",
    "rmse = mean_squared_error(y_test, y_pred, squared=False)\n",
    "print('Test set RMSE:', rmse)"
   ]
  },
  {
   "cell_type": "markdown",
   "id": "fd744d68",
   "metadata": {},
   "source": [
    "# Pickle formation"
   ]
  },
  {
   "cell_type": "code",
   "execution_count": 33,
   "id": "53c25db2",
   "metadata": {},
   "outputs": [],
   "source": [
    "import pickle\n",
    "\n",
    "with open('lr_model.pkl','wb') as files:\n",
    "    pickle.dump(classifier,files)\n",
    "with open('random_model.pkl','wb') as files:\n",
    "    pickle.dump(random_classifier,files)\n",
    "with open('nb_model.pkl','wb') as files:\n",
    "    pickle.dump(nb_classifier,files)\n",
    "with open('svm_model.pkl','wb') as files:\n",
    "    pickle.dump(svm_classifier,files)"
   ]
  },
  {
   "cell_type": "code",
   "execution_count": null,
   "id": "7110eece",
   "metadata": {},
   "outputs": [],
   "source": []
  },
  {
   "cell_type": "code",
   "execution_count": null,
   "id": "ccfa8c57",
   "metadata": {},
   "outputs": [],
   "source": []
  }
 ],
 "metadata": {
  "kernelspec": {
   "display_name": "Python 3 (ipykernel)",
   "language": "python",
   "name": "python3"
  },
  "language_info": {
   "codemirror_mode": {
    "name": "ipython",
    "version": 3
   },
   "file_extension": ".py",
   "mimetype": "text/x-python",
   "name": "python",
   "nbconvert_exporter": "python",
   "pygments_lexer": "ipython3",
   "version": "3.9.13"
  }
 },
 "nbformat": 4,
 "nbformat_minor": 5
}
