{
 "cells": [
  {
   "cell_type": "markdown",
   "id": "d1d49d54",
   "metadata": {},
   "source": [
    "# Testing dataset"
   ]
  },
  {
   "cell_type": "code",
   "execution_count": 210,
   "id": "f6132791",
   "metadata": {},
   "outputs": [],
   "source": [
    "import pandas as pd\n",
    "import numpy as np\n",
    "import matplotlib.pyplot as plt\n",
    "\n",
    "dataset = pd.read_csv(\"dataset_coding.csv\")"
   ]
  },
  {
   "cell_type": "code",
   "execution_count": 211,
   "id": "1ed0bdc1",
   "metadata": {},
   "outputs": [],
   "source": [
    "# input\n",
    "x = dataset.iloc[:, :-1].values\n",
    "  \n",
    "# output\n",
    "y = dataset.iloc[:, -1].values"
   ]
  },
  {
   "cell_type": "code",
   "execution_count": 212,
   "id": "a8410de9",
   "metadata": {},
   "outputs": [
    {
     "data": {
      "text/plain": [
       "array([2.17959409e+00, 1.80000000e+01, 3.59434683e+01, 9.78000000e+02,\n",
       "       2.61800000e+03, 3.73567609e-01, 9.78219335e-02])"
      ]
     },
     "execution_count": 212,
     "metadata": {},
     "output_type": "execute_result"
    }
   ],
   "source": [
    "x[0]"
   ]
  },
  {
   "cell_type": "code",
   "execution_count": 213,
   "id": "06422130",
   "metadata": {},
   "outputs": [],
   "source": [
    "import pickle\n",
    "model_file='random_model.pkl'"
   ]
  },
  {
   "cell_type": "code",
   "execution_count": 214,
   "id": "110767d7",
   "metadata": {},
   "outputs": [],
   "source": [
    "model = pickle.load(open(model_file, 'rb'))\n",
    "\n"
   ]
  },
  {
   "cell_type": "code",
   "execution_count": 215,
   "id": "51c326e0",
   "metadata": {},
   "outputs": [],
   "source": [
    "result = model.predict(x)"
   ]
  },
  {
   "cell_type": "code",
   "execution_count": 216,
   "id": "aadeec94",
   "metadata": {},
   "outputs": [
    {
     "data": {
      "text/plain": [
       "array([1., 1., 1., ..., 1., 1., 1.])"
      ]
     },
     "execution_count": 216,
     "metadata": {},
     "output_type": "execute_result"
    }
   ],
   "source": [
    "result"
   ]
  },
  {
   "cell_type": "code",
   "execution_count": 217,
   "id": "189e32a2",
   "metadata": {},
   "outputs": [
    {
     "data": {
      "text/plain": [
       "array([1., 1., 1., ..., 1., 1., 1.])"
      ]
     },
     "execution_count": 217,
     "metadata": {},
     "output_type": "execute_result"
    }
   ],
   "source": [
    "y"
   ]
  },
  {
   "cell_type": "code",
   "execution_count": 218,
   "id": "794d739a",
   "metadata": {},
   "outputs": [
    {
     "data": {
      "text/plain": [
       "111276"
      ]
     },
     "execution_count": 218,
     "metadata": {},
     "output_type": "execute_result"
    }
   ],
   "source": [
    "len(y)"
   ]
  },
  {
   "cell_type": "code",
   "execution_count": 219,
   "id": "5fbdf15d",
   "metadata": {},
   "outputs": [
    {
     "data": {
      "text/plain": [
       "449"
      ]
     },
     "execution_count": 219,
     "metadata": {},
     "output_type": "execute_result"
    }
   ],
   "source": [
    "num_ones = np.count_nonzero(result == 0)\n",
    "num_ones"
   ]
  },
  {
   "cell_type": "code",
   "execution_count": 220,
   "id": "a657fe2a",
   "metadata": {},
   "outputs": [
    {
     "name": "stdout",
     "output_type": "stream",
     "text": [
      "Accuracy :  0.9959649879578705\n"
     ]
    }
   ],
   "source": [
    "from sklearn.metrics import accuracy_score\n",
    "print (\"Accuracy : \", accuracy_score(result, y))"
   ]
  },
  {
   "cell_type": "code",
   "execution_count": null,
   "id": "40555fe0",
   "metadata": {},
   "outputs": [],
   "source": []
  },
  {
   "cell_type": "markdown",
   "id": "8c9fad12",
   "metadata": {},
   "source": [
    "# Graphs"
   ]
  },
  {
   "cell_type": "markdown",
   "id": "a58868b5",
   "metadata": {},
   "source": [
    "1. Confusion Matrix: A confusion matrix is a table that summarizes the performance of a classification \n",
    "    algorithm by comparing the predicted and actual class labels of a dataset.\n",
    "    It can be used to calculate various metrics such as accuracy, precision, recall, and F1-score.\n",
    "\n",
    "2. ROC Curve: A receiver operating characteristic (ROC) curve is a graphical representation of the \n",
    "    performance of a binary classification algorithm. It plots the true positive rate (sensitivity) \n",
    "    against the false positive rate (1-specificity) for different threshold values. A good classifier \n",
    "    will have a high true positive rate and a low false positive rate, which will result in an ROC curve \n",
    "    that is close to the upper left corner of the plot.\n",
    "\n",
    "3. Precision-Recall Curve: A precision-recall curve is a graphical representation of the performance of \n",
    "    a binary classification algorithm that is based on the precision and recall metrics. It plots the\n",
    "    precision (positive predictive value) against the recall (true positive rate) for different threshold \n",
    "    values. A good classifier will have a high precision and a high recall, which will result in a \n",
    "    precision-recall curve that is close to the upper right corner of the plot.\n",
    "\n",
    "4. Feature Importance Plot: A feature importance plot can be used to visualize the importance of different \n",
    "    features (variables) in a machine learning model. In the case of coding and non-coding RNA classification,\n",
    "    the features could be various sequence-based and structural-based features that are used to train the model.\n",
    "\n",
    "5. Scatter Plot: A scatter plot can be used to visualize the distribution of the data points in the feature space.\n",
    "    It can be used to check if there is a clear separation between the coding and non-coding RNA samples, which can\n",
    "    help to determine if the classification problem is feasible.\n",
    "    \n",
    "6. Precision-Recall Trade-off Curve: This curve plots precision against recall for various classification \n",
    "    thresholds.It helps in identifying an optimal threshold that balances precision and recall based \n",
    "    on the specific requirements of the classification task.\n",
    "\n",
    "7. Class-wise Performance Comparison: Bar graphs or stacked bar graphs can be used to compare the performance \n",
    "    (accuracy, precision, recall, etc.) of the model for coding and noncoding RNA classes separately.\n",
    "    This visualization allows for a clear understanding of the model's strengths and weaknesses for each class.\n"
   ]
  },
  {
   "cell_type": "code",
   "execution_count": null,
   "id": "7febc547",
   "metadata": {},
   "outputs": [],
   "source": []
  },
  {
   "cell_type": "markdown",
   "id": "9bf12c8d",
   "metadata": {},
   "source": [
    "# 1.Confusion Matrix"
   ]
  },
  {
   "cell_type": "code",
   "execution_count": 69,
   "id": "bb6f9f5b",
   "metadata": {},
   "outputs": [
    {
     "name": "stdout",
     "output_type": "stream",
     "text": [
      "[[    0     0]\n",
      " [  937 65863]]\n"
     ]
    }
   ],
   "source": [
    "from sklearn.metrics import confusion_matrix\n",
    "\n",
    "confusion_matrix = confusion_matrix(y, result)\n",
    "print(confusion_matrix)\n"
   ]
  },
  {
   "cell_type": "code",
   "execution_count": null,
   "id": "62ca95b7",
   "metadata": {},
   "outputs": [],
   "source": []
  },
  {
   "cell_type": "markdown",
   "id": "b01db2eb",
   "metadata": {},
   "source": [
    "# 2.ROC Curve"
   ]
  },
  {
   "cell_type": "code",
   "execution_count": 70,
   "id": "cc262de1",
   "metadata": {},
   "outputs": [
    {
     "name": "stderr",
     "output_type": "stream",
     "text": [
      "/home/pc/anaconda3/lib/python3.9/site-packages/sklearn/metrics/_ranking.py:1020: UndefinedMetricWarning: No negative samples in y_true, false positive value should be meaningless\n",
      "  warnings.warn(\n"
     ]
    },
    {
     "data": {
      "image/png": "[encoded data removed]",
      "text/plain": [
       "<Figure size 640x480 with 1 Axes>"
      ]
     },
     "metadata": {},
     "output_type": "display_data"
    }
   ],
   "source": [
    "from sklearn.metrics import roc_curve, auc\n",
    "import matplotlib.pyplot as plt\n",
    "\n",
    "\n",
    "\n",
    "# Calculate the TPR and FPR for different probability thresholds\n",
    "fpr, tpr, thresholds = roc_curve(y, result)\n",
    "\n",
    "# Calculate the area under the ROC curve\n",
    "roc_auc = auc(fpr, tpr)\n",
    "\n",
    "# Plot the ROC curve\n",
    "plt.plot(fpr, tpr, label='ROC curve (area = %0.2f)' % roc_auc)\n",
    "plt.plot([0, 1], [0, 1], 'k--')\n",
    "plt.xlim([0.0, 1.0])\n",
    "plt.ylim([0.0, 1.05])\n",
    "plt.xlabel('False Positive Rate')\n",
    "plt.ylabel('True Positive Rate')\n",
    "plt.title('Receiver operating characteristic')\n",
    "plt.legend(loc=\"lower right\")\n",
    "plt.show()\n"
   ]
  },
  {
   "cell_type": "code",
   "execution_count": null,
   "id": "6dbae92e",
   "metadata": {},
   "outputs": [],
   "source": []
  },
  {
   "cell_type": "code",
   "execution_count": null,
   "id": "49f77a4d",
   "metadata": {},
   "outputs": [],
   "source": []
  },
  {
   "cell_type": "markdown",
   "id": "51190c1c",
   "metadata": {},
   "source": [
    "# 3. Precision-Recall Curve"
   ]
  },
  {
   "cell_type": "code",
   "execution_count": 71,
   "id": "61223e27",
   "metadata": {},
   "outputs": [
    {
     "data": {
      "image/png": "[encoded data removed]",
      "text/plain": [
       "<Figure size 640x480 with 1 Axes>"
      ]
     },
     "metadata": {},
     "output_type": "display_data"
    }
   ],
   "source": [
    "from sklearn.metrics import precision_recall_curve\n",
    "import matplotlib.pyplot as plt\n",
    "\n",
    "\n",
    "\n",
    "# Calculate the precision and recall for different probability thresholds\n",
    "precision, recall, thresholds = precision_recall_curve(y, result)\n",
    "\n",
    "# Plot the precision-recall curve\n",
    "plt.plot(recall, precision, label='Precision-Recall curve')\n",
    "plt.xlabel('Recall')\n",
    "plt.ylabel('Precision')\n",
    "plt.ylim([0.0, 1.05])\n",
    "plt.xlim([0.0, 1.0])\n",
    "plt.title('Precision-Recall Curve')\n",
    "plt.legend(loc=\"lower left\")\n",
    "plt.show()\n"
   ]
  },
  {
   "cell_type": "code",
   "execution_count": null,
   "id": "8aa83b15",
   "metadata": {},
   "outputs": [],
   "source": []
  },
  {
   "cell_type": "markdown",
   "id": "d7a29309",
   "metadata": {},
   "source": [
    "# 4. Feature Importance Plot"
   ]
  },
  {
   "cell_type": "code",
   "execution_count": 221,
   "id": "d330428f",
   "metadata": {},
   "outputs": [
    {
     "data": {
      "image/png": "[encoded data removed]",
      "text/plain": [
       "<Figure size 1000x500 with 1 Axes>"
      ]
     },
     "metadata": {},
     "output_type": "display_data"
    }
   ],
   "source": [
    "import matplotlib.pyplot as plt\n",
    "\n",
    "\n",
    "# Get the feature importances\n",
    "importances =model.feature_importances_\n",
    "\n",
    "# Sort the feature importances in descending order\n",
    "indices = np.argsort(importances)[::-1]\n",
    "\n",
    "# Plot the feature importances\n",
    "plt.figure(figsize=(10, 5))\n",
    "plt.title(\"Feature importances\")\n",
    "plt.bar(range(x.shape[1]), importances[indices],\n",
    "        color=\"r\", align=\"center\")\n",
    "plt.xticks(range(x.shape[1]), indices)\n",
    "plt.xlim([-1, x.shape[1]])\n",
    "plt.show()\n"
   ]
  },
  {
   "cell_type": "code",
   "execution_count": 222,
   "id": "d1d2a78c",
   "metadata": {},
   "outputs": [
    {
     "data": {
      "text/plain": [
       "array([0.02468888, 0.14039653, 0.02322144, 0.43150302, 0.30899829,\n",
       "       0.03079899, 0.04039287])"
      ]
     },
     "execution_count": 222,
     "metadata": {},
     "output_type": "execute_result"
    }
   ],
   "source": [
    "importances\n"
   ]
  },
  {
   "cell_type": "code",
   "execution_count": null,
   "id": "03cc22d1",
   "metadata": {},
   "outputs": [],
   "source": []
  },
  {
   "cell_type": "markdown",
   "id": "b935c877",
   "metadata": {},
   "source": [
    "# 5. Scatter Plot"
   ]
  },
  {
   "cell_type": "code",
   "execution_count": 80,
   "id": "17cfbfbc",
   "metadata": {},
   "outputs": [
    {
     "data": {
      "image/png": "[encoded data removed]",
      "text/plain": [
       "<Figure size 640x480 with 1 Axes>"
      ]
     },
     "metadata": {},
     "output_type": "display_data"
    }
   ],
   "source": [
    "import numpy as np\n",
    "import matplotlib.pyplot as plt\n",
    "\n",
    "\n",
    "# Create the scatter plot\n",
    "plt.scatter(y, result)\n",
    "plt.xlabel('y')\n",
    "plt.ylabel('result')\n",
    "plt.title('Scatter Plot')\n",
    "plt.show()\n"
   ]
  },
  {
   "cell_type": "code",
   "execution_count": null,
   "id": "651af24c",
   "metadata": {},
   "outputs": [],
   "source": []
  },
  {
   "cell_type": "markdown",
   "id": "f48c8a66",
   "metadata": {},
   "source": [
    "# 6. Precision-Recall Trade-off Curve"
   ]
  },
  {
   "cell_type": "code",
   "execution_count": 83,
   "id": "1cb2ef5c",
   "metadata": {},
   "outputs": [
    {
     "data": {
      "image/png": "[encoded data removed]",
      "text/plain": [
       "<Figure size 640x480 with 1 Axes>"
      ]
     },
     "metadata": {},
     "output_type": "display_data"
    }
   ],
   "source": [
    "from sklearn.metrics import precision_recall_curve\n",
    "import matplotlib.pyplot as plt\n",
    "\n",
    "# Predict the probabilities of your test data\n",
    "probs = model.predict_proba(x)\n",
    "\n",
    "# Calculate the precision, recall, and thresholds\n",
    "precision, recall, thresholds = precision_recall_curve(y, probs[:, 1])\n",
    "\n",
    "# Plot the precision-recall trade-off curve\n",
    "plt.plot(recall, precision, label='Logistic Regression')\n",
    "plt.xlabel('Recall')\n",
    "plt.ylabel('Precision')\n",
    "plt.title('Precision-Recall Trade-off Curve')\n",
    "plt.legend()\n",
    "plt.show()\n"
   ]
  },
  {
   "cell_type": "code",
   "execution_count": null,
   "id": "af5c31c4",
   "metadata": {},
   "outputs": [],
   "source": []
  },
  {
   "cell_type": "markdown",
   "id": "d874eacf",
   "metadata": {},
   "source": [
    "# 7. Class-wise Performance Comparison"
   ]
  },
  {
   "cell_type": "code",
   "execution_count": 84,
   "id": "4e333963",
   "metadata": {},
   "outputs": [
    {
     "name": "stdout",
     "output_type": "stream",
     "text": [
      "              precision    recall  f1-score   support\n",
      "\n",
      "         0.0       0.00      0.00      0.00         0\n",
      "         1.0       1.00      0.99      0.99     66800\n",
      "\n",
      "    accuracy                           0.99     66800\n",
      "   macro avg       0.50      0.49      0.50     66800\n",
      "weighted avg       1.00      0.99      0.99     66800\n",
      "\n"
     ]
    },
    {
     "name": "stderr",
     "output_type": "stream",
     "text": [
      "/home/pc/anaconda3/lib/python3.9/site-packages/sklearn/metrics/_classification.py:1344: UndefinedMetricWarning: Recall and F-score are ill-defined and being set to 0.0 in labels with no true samples. Use `zero_division` parameter to control this behavior.\n",
      "  _warn_prf(average, modifier, msg_start, len(result))\n",
      "/home/pc/anaconda3/lib/python3.9/site-packages/sklearn/metrics/_classification.py:1344: UndefinedMetricWarning: Recall and F-score are ill-defined and being set to 0.0 in labels with no true samples. Use `zero_division` parameter to control this behavior.\n",
      "  _warn_prf(average, modifier, msg_start, len(result))\n",
      "/home/pc/anaconda3/lib/python3.9/site-packages/sklearn/metrics/_classification.py:1344: UndefinedMetricWarning: Recall and F-score are ill-defined and being set to 0.0 in labels with no true samples. Use `zero_division` parameter to control this behavior.\n",
      "  _warn_prf(average, modifier, msg_start, len(result))\n"
     ]
    }
   ],
   "source": [
    "from sklearn.metrics import classification_report\n",
    "\n",
    "# Generate the classification report\n",
    "report = classification_report(y, result)\n",
    "\n",
    "# Print the classification report\n",
    "print(report)\n"
   ]
  },
  {
   "cell_type": "code",
   "execution_count": null,
   "id": "5be42dea",
   "metadata": {},
   "outputs": [],
   "source": []
  }
 ],
 "metadata": {
  "kernelspec": {
   "display_name": "Python 3 (ipykernel)",
   "language": "python",
   "name": "python3"
  },
  "language_info": {
   "codemirror_mode": {
    "name": "ipython",
    "version": 3
   },
   "file_extension": ".py",
   "mimetype": "text/x-python",
   "name": "python",
   "nbconvert_exporter": "python",
   "pygments_lexer": "ipython3",
   "version": "3.9.13"
  }
 },
 "nbformat": 4,
 "nbformat_minor": 5
}
