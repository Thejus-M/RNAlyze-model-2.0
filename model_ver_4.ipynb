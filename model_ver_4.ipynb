{
 "cells": [
  {
   "cell_type": "code",
   "execution_count": 1,
   "id": "7b796d97",
   "metadata": {},
   "outputs": [],
   "source": [
    "import pandas as pd\n",
    "import numpy as np\n",
    "import matplotlib.pyplot as plt\n",
    "\n",
    "dataset = pd.read_csv(\"dataset full 7f.csv\")"
   ]
  },
  {
   "cell_type": "code",
   "execution_count": 2,
   "id": "40c105a7",
   "metadata": {},
   "outputs": [
    {
     "data": {
      "text/plain": [
       "(222552, 8)"
      ]
     },
     "execution_count": 2,
     "metadata": {},
     "output_type": "execute_result"
    }
   ],
   "source": [
    "dataset.shape"
   ]
  },
  {
   "cell_type": "markdown",
   "id": "58e67dd4",
   "metadata": {},
   "source": [
    "# Dataframe processed"
   ]
  },
  {
   "cell_type": "code",
   "execution_count": 3,
   "id": "e2d0721f",
   "metadata": {},
   "outputs": [],
   "source": [
    "# input\n",
    "x = dataset.iloc[:, :-1].values\n",
    "  \n",
    "# output\n",
    "y = dataset.iloc[:, -1].values\n"
   ]
  },
  {
   "cell_type": "code",
   "execution_count": 4,
   "id": "c23bbd48",
   "metadata": {},
   "outputs": [],
   "source": [
    "from sklearn.model_selection import train_test_split\n",
    "X_train, X_test, y_train, y_test = train_test_split(x, y, test_size = 0.25, random_state=0)"
   ]
  },
  {
   "cell_type": "code",
   "execution_count": 5,
   "id": "473d388d",
   "metadata": {},
   "outputs": [
    {
     "data": {
      "text/plain": [
       "array([[1.37326494e+00, 1.30000000e+01, 5.65349544e+01, ...,\n",
       "        3.29000000e+02, 3.37386018e-01, 2.74390244e-02],\n",
       "       [2.01395363e+00, 2.00000000e+01, 4.42844284e+01, ...,\n",
       "        2.22200000e+03, 3.78037804e-02, 6.93381360e-02],\n",
       "       [1.66767601e+00, 5.50000000e+01, 4.57312546e+01, ...,\n",
       "        1.34700000e+03, 3.60801782e-01, 7.80089153e-02],\n",
       "       ...,\n",
       "       [1.91702925e+00, 2.10000000e+01, 3.88915663e+01, ...,\n",
       "        2.07500000e+03, 4.51084337e-01, 8.63066538e-02],\n",
       "       [1.70155488e+00, 4.60000000e+01, 4.30690073e+01, ...,\n",
       "        3.30400000e+03, 4.12227603e-01, 7.44777475e-02],\n",
       "       [1.52110644e+00, 2.10000000e+01, 5.05037783e+01, ...,\n",
       "        7.94000000e+02, 7.55667506e-01, 5.04413619e-02]])"
      ]
     },
     "execution_count": 5,
     "metadata": {},
     "output_type": "execute_result"
    }
   ],
   "source": [
    "X_train\n",
    "# X_train.shape"
   ]
  },
  {
   "cell_type": "code",
   "execution_count": 6,
   "id": "657af187",
   "metadata": {},
   "outputs": [
    {
     "data": {
      "text/plain": [
       "array([[1.24481294e+00, 2.00000000e+00, 5.33333333e+01, ...,\n",
       "        7.50000000e+01, 7.60000000e-01, 4.05405405e-02],\n",
       "       [2.25328183e+00, 2.80000000e+01, 3.89920424e+01, ...,\n",
       "        1.88500000e+03, 1.25729443e-01, 7.32484076e-02],\n",
       "       [1.53606352e+00, 1.10000000e+01, 5.09090909e+01, ...,\n",
       "        1.65000000e+02, 2.36363636e-01, 7.92682927e-02],\n",
       "       ...,\n",
       "       [1.28706868e+00, 6.10000000e+01, 5.42894565e+01, ...,\n",
       "        1.52700000e+03, 6.24754420e-01, 4.58715596e-02],\n",
       "       [1.18660326e+00, 1.58000000e+02, 5.80474934e+01, ...,\n",
       "        6.82200000e+03, 8.20580475e-01, 3.40126081e-02],\n",
       "       [1.47633422e+00, 0.00000000e+00, 3.91304348e+01, ...,\n",
       "        2.30000000e+01, 0.00000000e+00, 9.09090909e-02]])"
      ]
     },
     "execution_count": 6,
     "metadata": {},
     "output_type": "execute_result"
    }
   ],
   "source": [
    "X_test\n",
    "# X_test.shape"
   ]
  },
  {
   "cell_type": "code",
   "execution_count": 7,
   "id": "1135fe7f",
   "metadata": {},
   "outputs": [
    {
     "name": "stdout",
     "output_type": "stream",
     "text": [
      "[[-0.4464071  -0.46974983  0.9225087  -0.36675603 -0.51821016  0.60480723\n",
      "  -1.26643765]\n",
      " [ 0.48230171 -0.34901484 -0.42269177  0.78819998  0.42582643 -0.74221058\n",
      "   0.14918732]\n",
      " [-0.01964422  0.25466014 -0.2638193  -0.08879981 -0.01053491  0.71009201\n",
      "   0.44214273]\n",
      " [-0.94910353  1.25503581  1.8496161   0.39283122  0.22335477 -0.25853836\n",
      "  -1.33720931]\n",
      " [ 0.25303646  0.151173   -0.50543491  1.00864802  2.07751645  0.65023012\n",
      "  -0.01353451]\n",
      " [ 1.33991433 -0.6422284  -1.54386595 -0.50813031 -0.61495771 -0.1128426\n",
      "   1.08428958]\n",
      " [-1.04441742 -0.05580128  1.78174273 -0.24455114 -0.39403419  1.84161343\n",
      "  -1.37372986]\n",
      " [-0.05493421  1.82421507 -0.30448431 -0.23736262  4.45082346 -0.67367775\n",
      "  -0.13191208]\n",
      " [ 0.11148279 -0.67672411 -0.30751407 -0.50573414 -0.64487963 -0.9121885\n",
      "  -0.36720855]\n",
      " [ 0.02970455 -0.45250198  0.23721759 -0.38592542 -0.51272448  0.31768745\n",
      "   0.19845901]]\n"
     ]
    }
   ],
   "source": [
    "from sklearn.preprocessing import StandardScaler\n",
    "sc_x = StandardScaler()\n",
    "X_train = sc_x.fit_transform(X_train) \n",
    "X_test = sc_x.transform(X_test)\n",
    "  \n",
    "print (X_train[0:10, :])"
   ]
  },
  {
   "cell_type": "code",
   "execution_count": 8,
   "id": "a4d94dc9",
   "metadata": {},
   "outputs": [
    {
     "data": {
      "text/plain": [
       "(166914, 7)"
      ]
     },
     "execution_count": 8,
     "metadata": {},
     "output_type": "execute_result"
    }
   ],
   "source": [
    "X_train.shape"
   ]
  },
  {
   "cell_type": "markdown",
   "id": "5f7c61e9",
   "metadata": {},
   "source": [
    "# Logistic Regression model"
   ]
  },
  {
   "cell_type": "code",
   "execution_count": 9,
   "id": "af9a6d40",
   "metadata": {},
   "outputs": [],
   "source": [
    "from sklearn.linear_model import LogisticRegression\n",
    "\n",
    "classifier = LogisticRegression(random_state = 2)\n",
    "classifier.fit(X_train, y_train)\n",
    "\n",
    "y_pred = classifier.predict(X_test)"
   ]
  },
  {
   "cell_type": "code",
   "execution_count": 10,
   "id": "f1878495",
   "metadata": {},
   "outputs": [],
   "source": [
    "# from sklearn.model_selection import cross_val_score\n",
    "\n",
    "# scores = cross_val_score(classifier, x, y, cv=5)\n",
    "# print(\"Logistic Regression Accuracy: %0.2f (+/- %0.2f)\" % (scores.mean(), scores.std() * 2))"
   ]
  },
  {
   "cell_type": "code",
   "execution_count": 11,
   "id": "159232ef",
   "metadata": {},
   "outputs": [
    {
     "name": "stdout",
     "output_type": "stream",
     "text": [
      "Confusion Matrix : \n",
      " [[27108   502]\n",
      " [ 1263 26765]]\n"
     ]
    }
   ],
   "source": [
    "from sklearn.metrics import confusion_matrix\n",
    "cm = confusion_matrix(y_test, y_pred)\n",
    "  \n",
    "print (\"Confusion Matrix : \\n\", cm)"
   ]
  },
  {
   "cell_type": "code",
   "execution_count": 12,
   "id": "55090251",
   "metadata": {},
   "outputs": [
    {
     "name": "stdout",
     "output_type": "stream",
     "text": [
      "Accuracy :  0.9682770768180021\n"
     ]
    }
   ],
   "source": [
    "\n",
    "from sklearn.metrics import accuracy_score\n",
    "print (\"Accuracy : \", accuracy_score(y_test, y_pred))"
   ]
  },
  {
   "cell_type": "code",
   "execution_count": 13,
   "id": "0f15343f",
   "metadata": {},
   "outputs": [
    {
     "name": "stdout",
     "output_type": "stream",
     "text": [
      "Test set RMSE: 0.1781093012225861\n"
     ]
    }
   ],
   "source": [
    "from sklearn.metrics import mean_squared_error\n",
    "\n",
    "rmse = mean_squared_error(y_test, y_pred, squared=False)\n",
    "print('Test set RMSE:', rmse)\n"
   ]
  },
  {
   "cell_type": "code",
   "execution_count": 31,
   "id": "00084251",
   "metadata": {},
   "outputs": [
    {
     "name": "stdout",
     "output_type": "stream",
     "text": [
      "F1 score: 0.8873853336494447\n"
     ]
    }
   ],
   "source": [
    "from sklearn.metrics import f1_score\n",
    "\n",
    "\n",
    "f1 = f1_score(y_test, y_pred)\n",
    "print(\"F1 score:\", f1)"
   ]
  },
  {
   "cell_type": "code",
   "execution_count": 33,
   "id": "b39a9251",
   "metadata": {},
   "outputs": [
    {
     "data": {
      "image/png": "[encoded data removed]",
      "text/plain": [
       "<Figure size 640x480 with 1 Axes>"
      ]
     },
     "metadata": {},
     "output_type": "display_data"
    },
    {
     "name": "stdout",
     "output_type": "stream",
     "text": [
      "AUC Score: 0.8891735896431401\n"
     ]
    }
   ],
   "source": [
    "from sklearn.metrics import roc_curve, roc_auc_score\n",
    "import matplotlib.pyplot as plt\n",
    "\n",
    "# compute fpr, tpr, and thresholds\n",
    "fpr, tpr, thresholds = roc_curve(y_test, y_pred)\n",
    "\n",
    "# plot the ROC curve\n",
    "plt.plot(fpr, tpr)\n",
    "plt.xlabel('False Positive Rate')\n",
    "plt.ylabel('True Positive Rate')\n",
    "plt.title('ROC Curve')\n",
    "plt.show()\n",
    "\n",
    "# compute and print the AUC score\n",
    "auc_score = roc_auc_score(y_test, y_pred)\n",
    "print('AUC Score:', auc_score)\n"
   ]
  },
  {
   "cell_type": "markdown",
   "id": "cca90c86",
   "metadata": {},
   "source": [
    "# Random Forest"
   ]
  },
  {
   "cell_type": "code",
   "execution_count": 35,
   "id": "2a4b85bf",
   "metadata": {},
   "outputs": [],
   "source": [
    "from sklearn.ensemble import RandomForestClassifier\n",
    "\n",
    "random_classifier = RandomForestClassifier(n_estimators=50, random_state=0)\n",
    "random_classifier.fit(X_train, y_train)\n",
    "\n",
    "y_pred = random_classifier.predict(X_test)"
   ]
  },
  {
   "cell_type": "code",
   "execution_count": 36,
   "id": "f77a30d8",
   "metadata": {},
   "outputs": [],
   "source": [
    "# from sklearn.model_selection import cross_val_score\n",
    "\n",
    "# scores = cross_val_score(random_classifier, x, y, cv=5)\n",
    "# print(\"Logistic Regression Accuracy: %0.2f (+/- %0.2f)\" % (scores.mean(), scores.std() * 2))"
   ]
  },
  {
   "cell_type": "code",
   "execution_count": 37,
   "id": "6c98a92d",
   "metadata": {},
   "outputs": [
    {
     "name": "stdout",
     "output_type": "stream",
     "text": [
      "Confusion Matrix : \n",
      " [[27200   410]\n",
      " [  446 27582]]\n"
     ]
    }
   ],
   "source": [
    "from sklearn.metrics import confusion_matrix\n",
    "cm = confusion_matrix(y_test, y_pred)\n",
    "  \n",
    "print (\"Confusion Matrix : \\n\", cm)"
   ]
  },
  {
   "cell_type": "code",
   "execution_count": 38,
   "id": "db7a1aed",
   "metadata": {},
   "outputs": [
    {
     "name": "stdout",
     "output_type": "stream",
     "text": [
      "Accuracy :  0.9846148315899206\n"
     ]
    }
   ],
   "source": [
    "from sklearn.metrics import accuracy_score\n",
    "print (\"Accuracy : \", accuracy_score(y_test, y_pred))"
   ]
  },
  {
   "cell_type": "code",
   "execution_count": 39,
   "id": "03bc6b6e",
   "metadata": {},
   "outputs": [
    {
     "name": "stdout",
     "output_type": "stream",
     "text": [
      "Test set RMSE: 0.12403696388609099\n"
     ]
    }
   ],
   "source": [
    "from sklearn.metrics import mean_squared_error\n",
    "\n",
    "rmse = mean_squared_error(y_test, y_pred, squared=False)\n",
    "print('Test set RMSE:', rmse)\n"
   ]
  },
  {
   "cell_type": "code",
   "execution_count": 40,
   "id": "a507ebdf",
   "metadata": {},
   "outputs": [
    {
     "name": "stdout",
     "output_type": "stream",
     "text": [
      "F1 score: 0.9847197429489468\n"
     ]
    }
   ],
   "source": [
    "from sklearn.metrics import f1_score\n",
    "\n",
    "\n",
    "f1 = f1_score(y_test, y_pred)\n",
    "print(\"F1 score:\", f1)"
   ]
  },
  {
   "cell_type": "code",
   "execution_count": 41,
   "id": "4a7c1aa1",
   "metadata": {},
   "outputs": [
    {
     "data": {
      "image/png": "[encoded data removed]",
      "text/plain": [
       "<Figure size 640x480 with 1 Axes>"
      ]
     },
     "metadata": {},
     "output_type": "display_data"
    },
    {
     "name": "stdout",
     "output_type": "stream",
     "text": [
      "AUC Score: 0.9846188245448348\n"
     ]
    }
   ],
   "source": [
    "from sklearn.metrics import roc_curve, roc_auc_score\n",
    "import matplotlib.pyplot as plt\n",
    "\n",
    "# compute fpr, tpr, and thresholds\n",
    "fpr, tpr, thresholds = roc_curve(y_test, y_pred)\n",
    "\n",
    "# plot the ROC curve\n",
    "plt.plot(fpr, tpr)\n",
    "plt.xlabel('False Positive Rate')\n",
    "plt.ylabel('True Positive Rate')\n",
    "plt.title('ROC Curve')\n",
    "plt.show()\n",
    "\n",
    "# compute and print the AUC score\n",
    "auc_score = roc_auc_score(y_test, y_pred)\n",
    "print('AUC Score:', auc_score)\n"
   ]
  },
  {
   "cell_type": "markdown",
   "id": "65b7aaf9",
   "metadata": {},
   "source": [
    "# Support Vector Machine"
   ]
  },
  {
   "cell_type": "code",
   "execution_count": 42,
   "id": "bc463515",
   "metadata": {},
   "outputs": [],
   "source": [
    "from sklearn.svm import SVC\n",
    "\n",
    "svm_classifier = SVC(kernel='linear', random_state=0)\n",
    "svm_classifier.fit(X_train, y_train)\n",
    "\n",
    "y_pred = svm_classifier.predict(X_test)"
   ]
  },
  {
   "cell_type": "code",
   "execution_count": 43,
   "id": "526b03a5",
   "metadata": {},
   "outputs": [],
   "source": [
    "# from sklearn.model_selection import cross_val_score\n",
    "\n",
    "# scores = cross_val_score(svm_classifier, x, y, cv=5)\n",
    "# print(\"Logistic Regression Accuracy: %0.2f (+/- %0.2f)\" % (scores.mean(), scores.std() * 2))"
   ]
  },
  {
   "cell_type": "code",
   "execution_count": 44,
   "id": "f44fd464",
   "metadata": {},
   "outputs": [
    {
     "name": "stdout",
     "output_type": "stream",
     "text": [
      "Confusion Matrix : \n",
      " [[27069   541]\n",
      " [ 1152 26876]]\n"
     ]
    }
   ],
   "source": [
    "from sklearn.metrics import confusion_matrix\n",
    "cm = confusion_matrix(y_test, y_pred)\n",
    "  \n",
    "print (\"Confusion Matrix : \\n\", cm)"
   ]
  },
  {
   "cell_type": "code",
   "execution_count": 45,
   "id": "70e4809f",
   "metadata": {},
   "outputs": [
    {
     "name": "stdout",
     "output_type": "stream",
     "text": [
      "Accuracy :  0.9695711564038966\n"
     ]
    }
   ],
   "source": [
    "from sklearn.metrics import accuracy_score\n",
    "print (\"Accuracy : \", accuracy_score(y_test, y_pred))"
   ]
  },
  {
   "cell_type": "code",
   "execution_count": 46,
   "id": "6dbaa593",
   "metadata": {},
   "outputs": [
    {
     "name": "stdout",
     "output_type": "stream",
     "text": [
      "Test set RMSE: 0.17443865281554827\n"
     ]
    }
   ],
   "source": [
    "from sklearn.metrics import mean_squared_error\n",
    "\n",
    "rmse = mean_squared_error(y_test, y_pred, squared=False)\n",
    "print('Test set RMSE:', rmse)"
   ]
  },
  {
   "cell_type": "code",
   "execution_count": 47,
   "id": "07714228",
   "metadata": {},
   "outputs": [
    {
     "name": "stdout",
     "output_type": "stream",
     "text": [
      "F1 score: 0.9694652358192803\n"
     ]
    }
   ],
   "source": [
    "from sklearn.metrics import f1_score\n",
    "\n",
    "\n",
    "f1 = f1_score(y_test, y_pred)\n",
    "print(\"F1 score:\", f1)"
   ]
  },
  {
   "cell_type": "code",
   "execution_count": 48,
   "id": "1de90a4a",
   "metadata": {},
   "outputs": [
    {
     "data": {
      "image/png": "[encoded data removed]",
      "text/plain": [
       "<Figure size 640x480 with 1 Axes>"
      ]
     },
     "metadata": {},
     "output_type": "display_data"
    },
    {
     "name": "stdout",
     "output_type": "stream",
     "text": [
      "AUC Score: 0.969651947369648\n"
     ]
    }
   ],
   "source": [
    "from sklearn.metrics import roc_curve, roc_auc_score\n",
    "import matplotlib.pyplot as plt\n",
    "\n",
    "# compute fpr, tpr, and thresholds\n",
    "fpr, tpr, thresholds = roc_curve(y_test, y_pred)\n",
    "\n",
    "# plot the ROC curve\n",
    "plt.plot(fpr, tpr)\n",
    "plt.xlabel('False Positive Rate')\n",
    "plt.ylabel('True Positive Rate')\n",
    "plt.title('ROC Curve')\n",
    "plt.show()\n",
    "\n",
    "# compute and print the AUC score\n",
    "auc_score = roc_auc_score(y_test, y_pred)\n",
    "print('AUC Score:', auc_score)\n"
   ]
  },
  {
   "cell_type": "markdown",
   "id": "817d18f1",
   "metadata": {},
   "source": [
    "# Naive Bayes"
   ]
  },
  {
   "cell_type": "code",
   "execution_count": 49,
   "id": "c7e7ae61",
   "metadata": {},
   "outputs": [],
   "source": [
    "from sklearn.naive_bayes import GaussianNB\n",
    "\n",
    "nb_classifier = GaussianNB()\n",
    "nb_classifier.fit(X_train, y_train)\n",
    "\n",
    "y_pred = nb_classifier.predict(X_test)"
   ]
  },
  {
   "cell_type": "code",
   "execution_count": 50,
   "id": "1047f790",
   "metadata": {},
   "outputs": [],
   "source": [
    "# from sklearn.model_selection import cross_val_score\n",
    "\n",
    "# scores = cross_val_score(nb_classifier, x, y, cv=5)\n",
    "# print(\"Logistic Regression Accuracy: %0.2f (+/- %0.2f)\" % (scores.mean(), scores.std() * 2))"
   ]
  },
  {
   "cell_type": "code",
   "execution_count": 51,
   "id": "7474da9e",
   "metadata": {},
   "outputs": [
    {
     "name": "stdout",
     "output_type": "stream",
     "text": [
      "Confusion Matrix : \n",
      " [[25134  2476]\n",
      " [ 3699 24329]]\n"
     ]
    }
   ],
   "source": [
    "from sklearn.metrics import confusion_matrix\n",
    "cm = confusion_matrix(y_test, y_pred)\n",
    "  \n",
    "print (\"Confusion Matrix : \\n\", cm)"
   ]
  },
  {
   "cell_type": "code",
   "execution_count": 52,
   "id": "592e5a24",
   "metadata": {},
   "outputs": [
    {
     "name": "stdout",
     "output_type": "stream",
     "text": [
      "Accuracy :  0.889014702181962\n"
     ]
    }
   ],
   "source": [
    "from sklearn.metrics import accuracy_score\n",
    "print (\"Accuracy : \", accuracy_score(y_test, y_pred))"
   ]
  },
  {
   "cell_type": "code",
   "execution_count": 29,
   "id": "ebde57ab",
   "metadata": {},
   "outputs": [
    {
     "name": "stdout",
     "output_type": "stream",
     "text": [
      "Test set RMSE: 0.333144559940633\n"
     ]
    }
   ],
   "source": [
    "from sklearn.metrics import mean_squared_error\n",
    "\n",
    "rmse = mean_squared_error(y_test, y_pred, squared=False)\n",
    "print('Test set RMSE:', rmse)"
   ]
  },
  {
   "cell_type": "code",
   "execution_count": 53,
   "id": "c67e157e",
   "metadata": {},
   "outputs": [
    {
     "name": "stdout",
     "output_type": "stream",
     "text": [
      "F1 score: 0.8873853336494447\n"
     ]
    }
   ],
   "source": [
    "from sklearn.metrics import f1_score\n",
    "\n",
    "\n",
    "f1 = f1_score(y_test, y_pred)\n",
    "print(\"F1 score:\", f1)"
   ]
  },
  {
   "cell_type": "code",
   "execution_count": 54,
   "id": "bbabe27b",
   "metadata": {},
   "outputs": [
    {
     "data": {
      "image/png": "[encoded data removed]",
      "text/plain": [
       "<Figure size 640x480 with 1 Axes>"
      ]
     },
     "metadata": {},
     "output_type": "display_data"
    },
    {
     "name": "stdout",
     "output_type": "stream",
     "text": [
      "AUC Score: 0.8891735896431401\n"
     ]
    }
   ],
   "source": [
    "from sklearn.metrics import roc_curve, roc_auc_score\n",
    "import matplotlib.pyplot as plt\n",
    "\n",
    "# compute fpr, tpr, and thresholds\n",
    "fpr, tpr, thresholds = roc_curve(y_test, y_pred)\n",
    "\n",
    "# plot the ROC curve\n",
    "plt.plot(fpr, tpr)\n",
    "plt.xlabel('False Positive Rate')\n",
    "plt.ylabel('True Positive Rate')\n",
    "plt.title('ROC Curve')\n",
    "plt.show()\n",
    "\n",
    "# compute and print the AUC score\n",
    "auc_score = roc_auc_score(y_test, y_pred)\n",
    "print('AUC Score:', auc_score)\n"
   ]
  },
  {
   "cell_type": "markdown",
   "id": "fd744d68",
   "metadata": {},
   "source": [
    "# Pickle formation"
   ]
  },
  {
   "cell_type": "code",
   "execution_count": 30,
   "id": "53c25db2",
   "metadata": {},
   "outputs": [],
   "source": [
    "import pickle\n",
    "\n",
    "with open('lr_model.pkl','wb') as files:\n",
    "    pickle.dump(classifier,files)\n",
    "with open('random_model.pkl','wb') as files:\n",
    "    pickle.dump(random_classifier,files)\n",
    "with open('nb_model.pkl','wb') as files:\n",
    "    pickle.dump(nb_classifier,files)\n",
    "with open('svm_model.pkl','wb') as files:\n",
    "    pickle.dump(svm_classifier,files)"
   ]
  },
  {
   "cell_type": "code",
   "execution_count": null,
   "id": "7110eece",
   "metadata": {},
   "outputs": [],
   "source": []
  },
  {
   "cell_type": "code",
   "execution_count": null,
   "id": "ccfa8c57",
   "metadata": {},
   "outputs": [],
   "source": []
  },
  {
   "cell_type": "code",
   "execution_count": null,
   "id": "e92329dd",
   "metadata": {},
   "outputs": [],
   "source": []
  }
 ],
 "metadata": {
  "kernelspec": {
   "display_name": "Python 3 (ipykernel)",
   "language": "python",
   "name": "python3"
  },
  "language_info": {
   "codemirror_mode": {
    "name": "ipython",
    "version": 3
   },
   "file_extension": ".py",
   "mimetype": "text/x-python",
   "name": "python",
   "nbconvert_exporter": "python",
   "pygments_lexer": "ipython3",
   "version": "3.10.10"
  }
 },
 "nbformat": 4,
 "nbformat_minor": 5
}
